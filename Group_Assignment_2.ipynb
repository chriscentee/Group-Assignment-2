{
  "nbformat": 4,
  "nbformat_minor": 0,
  "metadata": {
    "colab": {
      "name": "Group Assignment 2.ipynb",
      "provenance": [],
      "collapsed_sections": []
    },
    "kernelspec": {
      "name": "python3",
      "display_name": "Python 3"
    }
  },
  "cells": [
    {
      "cell_type": "markdown",
      "metadata": {
        "id": "9_nyACP4KhJn",
        "colab_type": "text"
      },
      "source": [
        "Our team decided to design an Entity Relationship diagram that combines the different details of the transactions involved with placing an order on GrubHub; to be delivered to the end consumer. We created different tables for the main entities such as Customer, Restaurant, and Food Item which contain specific attributes, that are occasionally applied to the various other tables, in the form of a foreign key. The diagram will begin with the customer placing their order, followed with the transaction data shifting to the restaurant with the food details and delivery information required in order for the customer to receive their food. We decided to form a Last Transaction table, as it adds another component into the final output, which is the Recommended Restaurant List table. The goal is to provide a more user-oriented recommendation of restaurants to suggest ordering from. Within this goal, the end user data is used to display an accurate and reliable recommendation of restaurants which take into account all of the various components listed in the diagram. Included in the diagram are attributes to each entity, so that the end user and supplier are aware of what data belongs to each table. The customer information required, such as First Name, Last Name, etc. is the identifier to the order. The information from each table will be electronically transferred to each restaurant via the GrubHub app in order to include more features for the user; compared to the current original version of the GrubHub app. Each entity table has a primary key which is the main identifier. For the Restaurant entity table, RestaurantID is the primary key being used to show the relationship between Food Item and where it is being made (Restaurant). The entity table Restaurant is also connected to Order Transaction to show how the online Order Transaction is fulfilled at the selected restaurant. The entity table Customer is connected to the Order Transaction table by creating a new transaction. The Customer Entity Table is related to Order Transaction so that the customer can create their in-app order. Within the same two tables, there is also a connection to display how the customer purchases their specific order. The Customer table similarly connects to the Last Transaction table so that the ordering history can be used to make the connection between Customer and suggest a Recommended Restaurant List.\n",
        "The Order Transaction table then is able to be used to fulfill Delivery Information. \n",
        "\n",
        "Each restaurant will be able to interact with the food information provided to deliver three recommended restaurants to the user. There will be many restaurants on the app, with many order transactions from each restaurant. Each user will have one order per restaurant at a time (with multiple food items being included in order). All of the delivery information and transaction information will be available to the user and restaurant.\n",
        "\n",
        "\n",
        "---\n",
        "![](https://drive.google.com/uc?export=view&id=1W0VrQTlaaKkCZ683aZ4y95sAks8894S1)\n"
      ]
    }
  ]
}